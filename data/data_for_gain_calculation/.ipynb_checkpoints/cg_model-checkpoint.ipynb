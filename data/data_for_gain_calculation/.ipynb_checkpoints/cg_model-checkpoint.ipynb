{
 "cells": [
  {
   "cell_type": "code",
   "execution_count": 1,
   "metadata": {},
   "outputs": [],
   "source": [
    "import pandas as pd\n",
    "import numpy as np\n",
    "from sklearn.feature_selection import SelectFromModel\n",
    "from sklearn.svm import LinearSVC\n",
    "from sklearn.ensemble import RandomForestClassifier\n",
    "from sklearn.metrics import roc_auc_score\n",
    "import matplotlib.pyplot as plt\n",
    "from sklearn.metrics import confusion_matrix\n",
    "from sklearn.utils.multiclass import unique_labels\n",
    "from sklearn.preprocessing import LabelEncoder, StandardScaler\n",
    "import xgboost as xgb\n",
    "from sklearn.metrics import f1_score\n",
    "import matplotlib.pyplot as plt\n",
    "from sklearn.metrics import roc_curve\n",
    "from sklearn.model_selection import StratifiedShuffleSplit\n",
    "from sklearn.ensemble import GradientBoostingClassifier"
   ]
  },
  {
   "cell_type": "code",
   "execution_count": 2,
   "metadata": {},
   "outputs": [],
   "source": [
    "def plot_confusion_matrix(y_true, y_pred, classes,\n",
    "                          normalize=False,\n",
    "                          title=None,\n",
    "                          cmap=plt.cm.Blues):\n",
    "    if not title:\n",
    "        if normalize:\n",
    "            pass\n",
    "        else:\n",
    "            title = 'Confusion matrix, without normalization'\n",
    "\n",
    "    # Compute confusion matrix\n",
    "    cm = confusion_matrix(y_true, y_pred)\n",
    "\n",
    "    fig, ax = plt.subplots()\n",
    "    im = ax.imshow(cm, interpolation='nearest', cmap=cmap)\n",
    "    ax.figure.colorbar(im, ax=ax)\n",
    "    ax.set(xticks=np.arange(cm.shape[1]),\n",
    "           yticks=np.arange(cm.shape[0]),\n",
    "           xticklabels=classes, yticklabels=classes,\n",
    "           title=title,\n",
    "           ylabel='True label',\n",
    "           xlabel='Predicted label')\n",
    "\n",
    "    plt.setp(ax.get_xticklabels(), rotation=45, ha=\"right\",\n",
    "             rotation_mode=\"anchor\")\n",
    "\n",
    "    fmt = '.2f' if normalize else 'd'\n",
    "    thresh = cm.max() / 2.\n",
    "    for i in range(cm.shape[0]):\n",
    "        for j in range(cm.shape[1]):\n",
    "            ax.text(j, i, format(cm[i, j], fmt),\n",
    "                    ha=\"center\", va=\"center\",\n",
    "                    color=\"white\" if cm[i, j] > thresh else \"black\")\n",
    "    fig.tight_layout()\n",
    "    return ax"
   ]
  },
  {
   "cell_type": "code",
   "execution_count": 3,
   "metadata": {},
   "outputs": [],
   "source": [
    "def get_labels(array,threshold):\n",
    "    lst = []\n",
    "    for i in range(len(array)):\n",
    "        if array[i] >= threshold:\n",
    "            lst.append(1)\n",
    "        else:\n",
    "            lst.append(0)\n",
    "    return lst"
   ]
  },
  {
   "cell_type": "code",
   "execution_count": 4,
   "metadata": {},
   "outputs": [],
   "source": [
    "def pred_labels(array,y_true = None, set_best_threshold=True,threshold=0.1, jumps = 1000):\n",
    "    if set_best_threshold:\n",
    "        print(\"finding best threshold..\")\n",
    "        max_f1 = 0\n",
    "        best_threshold = 0\n",
    "        for i in [e/jumps for e in list(range(0,jumps))]:\n",
    "            labels = get_labels(array,i)\n",
    "            f1 = f1_score(y_true,labels)\n",
    "            if f1>max_f1:\n",
    "                max_f1 = f1\n",
    "                best_threshold = i\n",
    "        print(\"best threshold: \"+str(best_threshold))\n",
    "        print(\"f1-score at this threshold: \"+str(max_f1))\n",
    "        return get_labels(array,best_threshold)\n",
    "    else:\n",
    "        return get_labels(array,threshold)"
   ]
  },
  {
   "cell_type": "markdown",
   "metadata": {},
   "source": [
    "### Read Data & Feature Dictionary"
   ]
  },
  {
   "cell_type": "code",
   "execution_count": 5,
   "metadata": {},
   "outputs": [],
   "source": [
    "main = pd.read_csv(\"./data/model_data.csv\")"
   ]
  },
  {
   "cell_type": "code",
   "execution_count": 6,
   "metadata": {},
   "outputs": [],
   "source": [
    "dtypes_df = pd.read_csv(\"feature_dictionary.csv\")\n",
    "cat_features = dtypes_df[dtypes_df.dtype2==\"cat\"].feature.tolist()\n",
    "cont_features =  dtypes_df[dtypes_df.dtype2==\"cont\"].feature.tolist()"
   ]
  },
  {
   "cell_type": "markdown",
   "metadata": {},
   "source": [
    "### Preprocess Data"
   ]
  },
  {
   "cell_type": "markdown",
   "metadata": {},
   "source": [
    "#### > Fill NAs"
   ]
  },
  {
   "cell_type": "code",
   "execution_count": 7,
   "metadata": {},
   "outputs": [],
   "source": [
    "def fill_nas(main):\n",
    "    for col in dtypes_df.feature:\n",
    "        if col in cat_features:\n",
    "            main[col].fillna(\"Missing\",inplace=True)\n",
    "        else:\n",
    "            main[col] = main[col].apply(lambda x: x if (x!=None) and (x!=np.nan) and (np.isnan(x)!=True) else main[col].mean())\n",
    "    return main"
   ]
  },
  {
   "cell_type": "code",
   "execution_count": 8,
   "metadata": {},
   "outputs": [],
   "source": [
    "main = fill_nas(main)"
   ]
  },
  {
   "cell_type": "markdown",
   "metadata": {},
   "source": [
    "#### > Transform Categorical Features"
   ]
  },
  {
   "cell_type": "code",
   "execution_count": 9,
   "metadata": {},
   "outputs": [],
   "source": [
    "def transform_cats(main):\n",
    "    for col in cat_features:\n",
    "        if col.find(\"_transformed1\")==-1 and col.find(\"_clustered\")==-1:\n",
    "            try:\n",
    "                le = LabelEncoder()\n",
    "                le.fit(main[col].tolist())\n",
    "                main[col+\"_transformed\"] = le.transform(main[col].tolist())\n",
    "            except e:\n",
    "                print(\"Error: \"+e)\n",
    "        else:\n",
    "            print(col + \" is already transformed.\")\n",
    "    return main"
   ]
  },
  {
   "cell_type": "code",
   "execution_count": 10,
   "metadata": {},
   "outputs": [
    {
     "name": "stdout",
     "output_type": "stream",
     "text": [
      "ultimo_ivr_departamento_clustered_2 is already transformed.\n",
      "ultimo_ivr_departamento_clustered_5 is already transformed.\n",
      "ultima_categoria_open_question_clustered_2 is already transformed.\n",
      "ultima_categoria_open_question_clustered_5 is already transformed.\n",
      "ultima_categoria_open_question_clustered_8 is already transformed.\n",
      "ultima_subcategoria_open_question_clustered_2 is already transformed.\n",
      "ultima_subcategoria_open_question_clustered_5 is already transformed.\n",
      "ultima_subcategoria_open_question_clustered_8 is already transformed.\n",
      "grupo_acd_clustered_2 is already transformed.\n",
      "grupo_acd_clustered_5 is already transformed.\n",
      "grupo_acd_clustered_8 is already transformed.\n",
      "tariff_ds_clustered_2 is already transformed.\n",
      "tariff_ds_clustered_5 is already transformed.\n",
      "tariff_ds_clustered_8 is already transformed.\n",
      "line_type_ds_clustered_2 is already transformed.\n",
      "activation_reason_ds_clustered_2 is already transformed.\n",
      "technology_ds_clustered_2 is already transformed.\n",
      "technology_speed_ds_clustered_2 is already transformed.\n",
      "technology_speed_ds_clustered_5 is already transformed.\n",
      "channel_ds_clustered_2 is already transformed.\n",
      "channel_ds_clustered_5 is already transformed.\n",
      "channel_ds_clustered_8 is already transformed.\n",
      "client_segment_clustered_2 is already transformed.\n",
      "client_segment_clustered_5 is already transformed.\n",
      "client_segment_clustered_8 is already transformed.\n",
      "bpo_clustered_2 is already transformed.\n"
     ]
    }
   ],
   "source": [
    "main = transform_cats(main)"
   ]
  },
  {
   "cell_type": "markdown",
   "metadata": {},
   "source": [
    "### Build Model"
   ]
  },
  {
   "cell_type": "code",
   "execution_count": 11,
   "metadata": {},
   "outputs": [],
   "source": [
    "cont_features = dtypes_df[dtypes_df.dtype2==\"cont\"].feature.tolist()\n",
    "train_features = cont_features + [e for e in main.columns if (e.find('_transformed')!=-1 or e.find('_clustered')!=-1)]"
   ]
  },
  {
   "cell_type": "code",
   "execution_count": 12,
   "metadata": {},
   "outputs": [],
   "source": [
    "final_features = [\"llamada_reten_30D_transformed\",\n",
    "                  \"ultima_categoria_open_question_clustered_5\", # 5'le de dene\n",
    "                  \"tariff_ds_clustered_8\",\n",
    "                  \"times_retention\",\n",
    "                  \"total_segundos_conversacion\",\n",
    "                  \"service_type_transformed\",\n",
    "                  \"ultima_subcategoria_open_question_clustered_8\", # 8'le de dene\n",
    "                  \"client_segment_transformed\",\n",
    "                  \"tariff_ds_fibra_quota\",\n",
    "                  \"total_segundos_espera\",\n",
    "                  \"bundle_summary_transformed\",\n",
    "                  \"es_rellamada_1h_transformed\",\n",
    "                  \"es_rellamada_24h_transformed\",\n",
    "                  \"activation_reason_ds_transformed\",\n",
    "                  \"tariff_ds_fibra_quota\",\n",
    "                  \"technology_ds_transformed\",\n",
    "                  \"transferencia_transformed\"]\n",
    "# final_features = train_features # delete later\n",
    "\n",
    "X = np.array(main[final_features])\n",
    "y = np.array(main['TARGET'])"
   ]
  },
  {
   "cell_type": "code",
   "execution_count": 13,
   "metadata": {},
   "outputs": [
    {
     "name": "stdout",
     "output_type": "stream",
     "text": [
      "TRAIN: [16371 31071 26225 ... 25821 20160 21764] TEST: [22568 27529 41872 ... 24963 25894 12255]\n"
     ]
    }
   ],
   "source": [
    "sss = StratifiedShuffleSplit(n_splits=1, test_size=0.2, random_state=0)\n",
    "for train_index, test_index in sss.split(X, y):\n",
    "    print(\"TRAIN:\", train_index, \"TEST:\", test_index)\n",
    "    X, X_test = X[train_index], X[test_index]\n",
    "    y, y_test = y[train_index], y[test_index]"
   ]
  },
  {
   "cell_type": "markdown",
   "metadata": {},
   "source": [
    "### > GradientBoostingClassifier"
   ]
  },
  {
   "cell_type": "code",
   "execution_count": 14,
   "metadata": {},
   "outputs": [
    {
     "data": {
      "text/plain": [
       "GradientBoostingClassifier(criterion='friedman_mse', init=None,\n",
       "                           learning_rate=0.008, loss='deviance', max_depth=9,\n",
       "                           max_features=None, max_leaf_nodes=21,\n",
       "                           min_impurity_decrease=0.0, min_impurity_split=None,\n",
       "                           min_samples_leaf=20, min_samples_split=60,\n",
       "                           min_weight_fraction_leaf=0.0, n_estimators=423,\n",
       "                           n_iter_no_change=20, presort='auto',\n",
       "                           random_state=None, subsample=1.0, tol=0.0001,\n",
       "                           validation_fraction=0.1, verbose=0,\n",
       "                           warm_start=False)"
      ]
     },
     "execution_count": 14,
     "metadata": {},
     "output_type": "execute_result"
    }
   ],
   "source": [
    "bst = GradientBoostingClassifier(\n",
    "    loss='deviance',\n",
    "    learning_rate=0.008,\n",
    "    n_estimators=423,\n",
    "    criterion='friedman_mse',\n",
    "    min_samples_split=60,\n",
    "    min_samples_leaf=20,\n",
    "    max_depth=9,\n",
    "    max_leaf_nodes=21,\n",
    "    n_iter_no_change=20,\n",
    "    tol=0.0001)\n",
    "bst.fit(X,y)"
   ]
  },
  {
   "cell_type": "markdown",
   "metadata": {},
   "source": [
    "### > XGBoost"
   ]
  },
  {
   "cell_type": "code",
   "execution_count": 182,
   "metadata": {},
   "outputs": [
    {
     "data": {
      "text/plain": [
       "XGBClassifier(base_score=0.5, booster=None, colsample_bylevel=1,\n",
       "              colsample_bynode=1, colsample_bytree=1, gamma=0.01, gpu_id=-1,\n",
       "              importance_type='gain', interaction_constraints=None,\n",
       "              learning_rate=0.006, max_delta_step=0, max_depth=5,\n",
       "              min_child_weight=1, missing=nan, monotone_constraints=None,\n",
       "              n_estimators=400, n_jobs=0, num_parallel_tree=3,\n",
       "              objective='binary:logistic', random_state=17, reg_alpha=0,\n",
       "              reg_lambda=1, scale_pos_weight=1, subsample=1, tree_method=None,\n",
       "              validate_parameters=False, verbosity=None)"
      ]
     },
     "execution_count": 182,
     "metadata": {},
     "output_type": "execute_result"
    }
   ],
   "source": [
    "bst = xgb.XGBClassifier(\n",
    "            gamma=0.01,\n",
    "            importance_type='gain',\n",
    "            learning_rate=0.006,\n",
    "            max_depth=5,\n",
    "            n_estimators=400,\n",
    "            objective='binary:logistic',\n",
    "            random_state=17,\n",
    "            num_parallel_tree=3)\n",
    "bst.fit(X,y)"
   ]
  },
  {
   "cell_type": "code",
   "execution_count": 15,
   "metadata": {},
   "outputs": [],
   "source": [
    "y_pred_train = bst.predict_proba(X)[:,1]\n",
    "y_pred_test = bst.predict_proba(X_test)[:,1]"
   ]
  },
  {
   "cell_type": "markdown",
   "metadata": {},
   "source": [
    "### Importances"
   ]
  },
  {
   "cell_type": "code",
   "execution_count": 16,
   "metadata": {
    "scrolled": false
   },
   "outputs": [
    {
     "data": {
      "text/html": [
       "<div>\n",
       "<style scoped>\n",
       "    .dataframe tbody tr th:only-of-type {\n",
       "        vertical-align: middle;\n",
       "    }\n",
       "\n",
       "    .dataframe tbody tr th {\n",
       "        vertical-align: top;\n",
       "    }\n",
       "\n",
       "    .dataframe thead th {\n",
       "        text-align: right;\n",
       "    }\n",
       "</style>\n",
       "<table border=\"1\" class=\"dataframe\">\n",
       "  <thead>\n",
       "    <tr style=\"text-align: right;\">\n",
       "      <th></th>\n",
       "      <th>feature</th>\n",
       "      <th>importance</th>\n",
       "    </tr>\n",
       "  </thead>\n",
       "  <tbody>\n",
       "    <tr>\n",
       "      <th>0</th>\n",
       "      <td>llamada_reten_30D_transformed</td>\n",
       "      <td>0.323508</td>\n",
       "    </tr>\n",
       "    <tr>\n",
       "      <th>1</th>\n",
       "      <td>ultima_categoria_open_question_clustered_5</td>\n",
       "      <td>0.135322</td>\n",
       "    </tr>\n",
       "    <tr>\n",
       "      <th>2</th>\n",
       "      <td>tariff_ds_clustered_8</td>\n",
       "      <td>0.109584</td>\n",
       "    </tr>\n",
       "    <tr>\n",
       "      <th>4</th>\n",
       "      <td>total_segundos_conversacion</td>\n",
       "      <td>0.105874</td>\n",
       "    </tr>\n",
       "    <tr>\n",
       "      <th>6</th>\n",
       "      <td>ultima_subcategoria_open_question_clustered_8</td>\n",
       "      <td>0.077445</td>\n",
       "    </tr>\n",
       "    <tr>\n",
       "      <th>5</th>\n",
       "      <td>service_type_transformed</td>\n",
       "      <td>0.066617</td>\n",
       "    </tr>\n",
       "    <tr>\n",
       "      <th>9</th>\n",
       "      <td>total_segundos_espera</td>\n",
       "      <td>0.056454</td>\n",
       "    </tr>\n",
       "    <tr>\n",
       "      <th>7</th>\n",
       "      <td>client_segment_transformed</td>\n",
       "      <td>0.032401</td>\n",
       "    </tr>\n",
       "    <tr>\n",
       "      <th>10</th>\n",
       "      <td>bundle_summary_transformed</td>\n",
       "      <td>0.023935</td>\n",
       "    </tr>\n",
       "    <tr>\n",
       "      <th>8</th>\n",
       "      <td>tariff_ds_fibra_quota</td>\n",
       "      <td>0.012395</td>\n",
       "    </tr>\n",
       "    <tr>\n",
       "      <th>3</th>\n",
       "      <td>times_retention</td>\n",
       "      <td>0.010283</td>\n",
       "    </tr>\n",
       "    <tr>\n",
       "      <th>14</th>\n",
       "      <td>tariff_ds_fibra_quota</td>\n",
       "      <td>0.009863</td>\n",
       "    </tr>\n",
       "    <tr>\n",
       "      <th>12</th>\n",
       "      <td>es_rellamada_24h_transformed</td>\n",
       "      <td>0.008121</td>\n",
       "    </tr>\n",
       "    <tr>\n",
       "      <th>16</th>\n",
       "      <td>transferencia_transformed</td>\n",
       "      <td>0.007615</td>\n",
       "    </tr>\n",
       "    <tr>\n",
       "      <th>15</th>\n",
       "      <td>technology_ds_transformed</td>\n",
       "      <td>0.007503</td>\n",
       "    </tr>\n",
       "    <tr>\n",
       "      <th>13</th>\n",
       "      <td>activation_reason_ds_transformed</td>\n",
       "      <td>0.007198</td>\n",
       "    </tr>\n",
       "    <tr>\n",
       "      <th>11</th>\n",
       "      <td>es_rellamada_1h_transformed</td>\n",
       "      <td>0.005883</td>\n",
       "    </tr>\n",
       "  </tbody>\n",
       "</table>\n",
       "</div>"
      ],
      "text/plain": [
       "                                          feature  importance\n",
       "0                   llamada_reten_30D_transformed    0.323508\n",
       "1      ultima_categoria_open_question_clustered_5    0.135322\n",
       "2                           tariff_ds_clustered_8    0.109584\n",
       "4                     total_segundos_conversacion    0.105874\n",
       "6   ultima_subcategoria_open_question_clustered_8    0.077445\n",
       "5                        service_type_transformed    0.066617\n",
       "9                           total_segundos_espera    0.056454\n",
       "7                      client_segment_transformed    0.032401\n",
       "10                     bundle_summary_transformed    0.023935\n",
       "8                           tariff_ds_fibra_quota    0.012395\n",
       "3                                 times_retention    0.010283\n",
       "14                          tariff_ds_fibra_quota    0.009863\n",
       "12                   es_rellamada_24h_transformed    0.008121\n",
       "16                      transferencia_transformed    0.007615\n",
       "15                      technology_ds_transformed    0.007503\n",
       "13               activation_reason_ds_transformed    0.007198\n",
       "11                    es_rellamada_1h_transformed    0.005883"
      ]
     },
     "execution_count": 16,
     "metadata": {},
     "output_type": "execute_result"
    }
   ],
   "source": [
    "fnames = [(e,f) for e,f in zip(final_features, bst.feature_importances_)]\n",
    "importances = pd.DataFrame(fnames, columns= [\"feature\",\"importance\"])\n",
    "importances.sort_values(\"importance\",ascending=False)"
   ]
  },
  {
   "cell_type": "markdown",
   "metadata": {},
   "source": [
    "### Train CM"
   ]
  },
  {
   "cell_type": "code",
   "execution_count": 17,
   "metadata": {},
   "outputs": [
    {
     "name": "stdout",
     "output_type": "stream",
     "text": [
      "finding best threshold..\n"
     ]
    },
    {
     "name": "stderr",
     "output_type": "stream",
     "text": [
      "D:\\anaconda\\lib\\site-packages\\sklearn\\metrics\\classification.py:1437: UndefinedMetricWarning: F-score is ill-defined and being set to 0.0 due to no predicted samples.\n",
      "  'precision', 'predicted', average, warn_for)\n"
     ]
    },
    {
     "name": "stdout",
     "output_type": "stream",
     "text": [
      "best threshold: 0.18\n",
      "f1-score at this threshold: 0.33423292505708946\n"
     ]
    },
    {
     "data": {
      "image/png": "[encoded data removed]",
      "text/plain": [
       "<Figure size 432x288 with 2 Axes>"
      ]
     },
     "metadata": {
      "needs_background": "light"
     },
     "output_type": "display_data"
    }
   ],
   "source": [
    "y_pred_train_labels = pred_labels(y_pred_train,y_true = y, jumps = 100)\n",
    "np.set_printoptions(precision=2)\n",
    "\n",
    "plot_confusion_matrix(y, y_pred_train_labels, classes=[0,1],\n",
    "                      title='Confusion matrix')\n",
    "plt.show()"
   ]
  },
  {
   "cell_type": "code",
   "execution_count": 18,
   "metadata": {},
   "outputs": [
    {
     "name": "stdout",
     "output_type": "stream",
     "text": [
      "==TRAIN===\n",
      "accuracy: 0.91,\n",
      "precision: 0.36,\n",
      "sensitivity: 0.31\n",
      "f1-score: 0.33\n"
     ]
    }
   ],
   "source": [
    "cm = confusion_matrix(y, y_pred_train_labels)\n",
    "accuracy = (cm[1,1] + cm[0,0]) / cm.sum() # Overall, how often is the classifier correct?\n",
    "precision = cm[1,1] / (cm[0,1] + cm[1,1]) # When it predicts yes, how often is it correct? \n",
    "sensitivity = cm[1,1] / (cm[1,0] + cm[1,1]) # When it's actually yes, how often does it predict yes?\n",
    "f1 = f1_score(y,y_pred_train_labels)\n",
    "print('''==TRAIN===\n",
    "accuracy: {},\n",
    "precision: {},\n",
    "sensitivity: {}\n",
    "f1-score: {}'''.format(round(accuracy,2),round(precision,2),round(sensitivity,2),round(f1,2)))"
   ]
  },
  {
   "cell_type": "markdown",
   "metadata": {},
   "source": [
    "### Test CM"
   ]
  },
  {
   "cell_type": "code",
   "execution_count": 19,
   "metadata": {},
   "outputs": [
    {
     "name": "stdout",
     "output_type": "stream",
     "text": [
      "finding best threshold..\n",
      "best threshold: 0.15\n",
      "f1-score at this threshold: 0.273972602739726\n"
     ]
    },
    {
     "data": {
      "image/png": "[encoded data removed]",
      "text/plain": [
       "<Figure size 432x288 with 2 Axes>"
      ]
     },
     "metadata": {
      "needs_background": "light"
     },
     "output_type": "display_data"
    }
   ],
   "source": [
    "y_pred_test_labels = pred_labels(y_pred_test,y_true = y_test, jumps = 100)\n",
    "np.set_printoptions(precision=2)\n",
    "\n",
    "plot_confusion_matrix(y_test, y_pred_test_labels, classes=[0,1],\n",
    "                      title='Confusion matrix')\n",
    "plt.show()"
   ]
  },
  {
   "cell_type": "code",
   "execution_count": 20,
   "metadata": {},
   "outputs": [
    {
     "name": "stdout",
     "output_type": "stream",
     "text": [
      "===TEST===\n",
      "accuracy: 0.91,\n",
      "precision: 0.36,\n",
      "sensitivity: 0.31\n",
      "f1-score: 0.27\n"
     ]
    }
   ],
   "source": [
    "cm_test = confusion_matrix(y_test, y_pred_test_labels)\n",
    "accuracy_test = (cm[1,1] + cm[0,0]) / cm.sum() # Overall, how often is the classifier correct?\n",
    "precision_test = cm[1,1] / (cm[0,1] + cm[1,1]) # When it predicts yes, how often is it correct? \n",
    "sensitivity_test = cm[1,1] / (cm[1,0] + cm[1,1]) # When it's actually yes, how often does it predict yes?\n",
    "f1_test = f1_score(y_test,y_pred_test_labels)\n",
    "print('''===TEST===\n",
    "accuracy: {},\n",
    "precision: {},\n",
    "sensitivity: {}\n",
    "f1-score: {}'''.format(round(accuracy_test,2),round(precision_test,2),round(sensitivity_test,2),round(f1_test,2)))"
   ]
  },
  {
   "cell_type": "markdown",
   "metadata": {},
   "source": [
    "### ROC Curves"
   ]
  },
  {
   "cell_type": "code",
   "execution_count": 21,
   "metadata": {},
   "outputs": [
    {
     "data": {
      "image/png": "[encoded data removed]",
      "text/plain": [
       "<Figure size 432x288 with 1 Axes>"
      ]
     },
     "metadata": {
      "needs_background": "light"
     },
     "output_type": "display_data"
    }
   ],
   "source": [
    "bst_fpr_train, bst_tpr_train, _bst_train = roc_curve(y, y_pred_train)\n",
    "bst_auc_train = roc_auc_score(y,y_pred_train)\n",
    "\n",
    "bst_fpr_test, bst_tpr_test, _bst_test = roc_curve(y_test, y_pred_test)\n",
    "# tpr = tp / (tp + fn)\n",
    "# fpr = fp / (fp + tn)\n",
    "bst_auc_test = roc_auc_score(y_test,y_pred_test)\n",
    "\n",
    "plt.figure(1)\n",
    "plt.plot([0, 1], [0, 1], 'k--')\n",
    "plt.plot(bst_fpr_train, bst_tpr_train, label='Train')\n",
    "plt.plot(bst_fpr_test, bst_tpr_test, label='Test')\n",
    "plt.xlabel('False positive rate')\n",
    "plt.ylabel('True positive rate')\n",
    "plt.title('ROC curve')\n",
    "plt.legend(loc='best')\n",
    "plt.show()"
   ]
  },
  {
   "cell_type": "code",
   "execution_count": 22,
   "metadata": {},
   "outputs": [
    {
     "name": "stdout",
     "output_type": "stream",
     "text": [
      "AUC in Gradient Boosting - Train: 0.751173171673508\n",
      "AUC in Gradient Boosting - Test : 0.6948236768910148\n"
     ]
    }
   ],
   "source": [
    "print(\"AUC in Gradient Boosting - Train: \"+str(bst_auc_train))\n",
    "print(\"AUC in Gradient Boosting - Test : \"+str(bst_auc_test))"
   ]
  }
 ],
 "metadata": {
  "kernelspec": {
   "display_name": "Python 3",
   "language": "python",
   "name": "python3"
  },
  "language_info": {
   "codemirror_mode": {
    "name": "ipython",
    "version": 3
   },
   "file_extension": ".py",
   "mimetype": "text/x-python",
   "name": "python",
   "nbconvert_exporter": "python",
   "pygments_lexer": "ipython3",
   "version": "3.7.3"
  }
 },
 "nbformat": 4,
 "nbformat_minor": 2
}
