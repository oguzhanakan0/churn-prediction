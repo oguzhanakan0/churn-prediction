{
 "cells": [
  {
   "cell_type": "code",
   "execution_count": 13,
   "metadata": {},
   "outputs": [],
   "source": [
    "import pandas as pd\n",
    "import numpy as np\n",
    "from sklearn.feature_selection import SelectFromModel\n",
    "from sklearn.svm import LinearSVC\n",
    "from sklearn.ensemble import RandomForestClassifier\n",
    "from sklearn.metrics import roc_auc_score\n",
    "import matplotlib.pyplot as plt\n",
    "from sklearn.metrics import confusion_matrix\n",
    "from sklearn.utils.multiclass import unique_labels\n",
    "from sklearn.preprocessing import LabelEncoder, StandardScaler\n",
    "import xgboost as xgb\n",
    "from sklearn.metrics import f1_score\n",
    "import matplotlib.pyplot as plt\n",
    "from sklearn.metrics import roc_curve\n",
    "from sklearn.model_selection import StratifiedShuffleSplit\n",
    "from sklearn.ensemble import GradientBoostingClassifier"
   ]
  },
  {
   "cell_type": "code",
   "execution_count": 14,
   "metadata": {},
   "outputs": [],
   "source": [
    "def plot_confusion_matrix(y_true, y_pred, classes,\n",
    "                          normalize=False,\n",
    "                          title=None,\n",
    "                          cmap=plt.cm.Blues):\n",
    "    if not title:\n",
    "        if normalize:\n",
    "            pass\n",
    "        else:\n",
    "            title = 'Confusion matrix, without normalization'\n",
    "\n",
    "    # Compute confusion matrix\n",
    "    cm = confusion_matrix(y_true, y_pred)\n",
    "\n",
    "    fig, ax = plt.subplots()\n",
    "    im = ax.imshow(cm, interpolation='nearest', cmap=cmap)\n",
    "    ax.figure.colorbar(im, ax=ax)\n",
    "    ax.set(xticks=np.arange(cm.shape[1]),\n",
    "           yticks=np.arange(cm.shape[0]),\n",
    "           xticklabels=classes, yticklabels=classes,\n",
    "           title=title,\n",
    "           ylabel='True label',\n",
    "           xlabel='Predicted label')\n",
    "\n",
    "    plt.setp(ax.get_xticklabels(), rotation=45, ha=\"right\",\n",
    "             rotation_mode=\"anchor\")\n",
    "\n",
    "    fmt = '.2f' if normalize else 'd'\n",
    "    thresh = cm.max() / 2.\n",
    "    for i in range(cm.shape[0]):\n",
    "        for j in range(cm.shape[1]):\n",
    "            ax.text(j, i, format(cm[i, j], fmt),\n",
    "                    ha=\"center\", va=\"center\",\n",
    "                    color=\"white\" if cm[i, j] > thresh else \"black\")\n",
    "    fig.tight_layout()\n",
    "    return ax"
   ]
  },
  {
   "cell_type": "code",
   "execution_count": 15,
   "metadata": {},
   "outputs": [],
   "source": [
    "def get_labels(array,threshold):\n",
    "    lst = []\n",
    "    for i in range(len(array)):\n",
    "        if array[i] >= threshold:\n",
    "            lst.append(1)\n",
    "        else:\n",
    "            lst.append(0)\n",
    "    return lst"
   ]
  },
  {
   "cell_type": "code",
   "execution_count": 16,
   "metadata": {},
   "outputs": [],
   "source": [
    "def pred_labels(array,y_true = None, set_best_threshold=True,threshold=0.1, jumps = 1000):\n",
    "    if set_best_threshold:\n",
    "        print(\"finding best threshold..\")\n",
    "        max_f1 = 0\n",
    "        best_threshold = 0\n",
    "        for i in [e/jumps for e in list(range(0,jumps))]:\n",
    "            labels = get_labels(array,i)\n",
    "            f1 = f1_score(y_true,labels)\n",
    "            if f1>max_f1:\n",
    "                max_f1 = f1\n",
    "                best_threshold = i\n",
    "        print(\"best threshold: \"+str(best_threshold))\n",
    "        print(\"f1-score at this threshold: \"+str(max_f1))\n",
    "        return get_labels(array,best_threshold)\n",
    "    else:\n",
    "        return get_labels(array,threshold)"
   ]
  },
  {
   "cell_type": "markdown",
   "metadata": {},
   "source": [
    "### Read Data & Feature Dictionary"
   ]
  },
  {
   "cell_type": "code",
   "execution_count": 337,
   "metadata": {},
   "outputs": [],
   "source": [
    "main = pd.read_csv(\"./data/model_data_jan.csv\")"
   ]
  },
  {
   "cell_type": "code",
   "execution_count": 338,
   "metadata": {},
   "outputs": [],
   "source": [
    "dtypes_df = pd.read_csv(\"feature_dictionary.csv\")\n",
    "cat_features = dtypes_df[dtypes_df.dtype2==\"cat\"].feature.tolist()\n",
    "cont_features =  dtypes_df[dtypes_df.dtype2==\"cont\"].feature.tolist()"
   ]
  },
  {
   "cell_type": "markdown",
   "metadata": {},
   "source": [
    "### Preprocess Data"
   ]
  },
  {
   "cell_type": "markdown",
   "metadata": {},
   "source": [
    "#### > Fill NAs"
   ]
  },
  {
   "cell_type": "code",
   "execution_count": 412,
   "metadata": {},
   "outputs": [],
   "source": [
    "def fill_nas(main):\n",
    "    for col in dtypes_df.feature:\n",
    "        try:\n",
    "            if col in cat_features:\n",
    "                main[col].fillna(\"Missing\",inplace=True)\n",
    "            else:\n",
    "                main[col] = main[col].apply(lambda x: x if (x!=None) and (x!=np.nan) and (np.isnan(x)!=True) else main[col].mean())\n",
    "        except:\n",
    "            print(col+\" cannot be found (or something else happened.)\")\n",
    "    return main"
   ]
  },
  {
   "cell_type": "code",
   "execution_count": 411,
   "metadata": {},
   "outputs": [],
   "source": [
    "def find_nas(main):\n",
    "    for col in dtypes_df.feature:\n",
    "        if main[(main[col].isna())|(main[col].str.find('Missing')!=-1)].shape[0]!=0:\n",
    "            print(col+\" has Nulls in it.\")"
   ]
  },
  {
   "cell_type": "code",
   "execution_count": 341,
   "metadata": {},
   "outputs": [],
   "source": [
    "main = fill_nas(main)"
   ]
  },
  {
   "cell_type": "markdown",
   "metadata": {},
   "source": [
    "#### > Transform Categorical Features"
   ]
  },
  {
   "cell_type": "code",
   "execution_count": 342,
   "metadata": {},
   "outputs": [],
   "source": [
    "def transform_cats(main):\n",
    "    for col in cat_features:\n",
    "        if col.find(\"_transformed1\")==-1 and col.find(\"_clustered\")==-1:\n",
    "            try:\n",
    "                le = LabelEncoder()\n",
    "                le.fit(main[col].tolist())\n",
    "                main[col+\"_transformed\"] = le.transform(main[col].tolist())\n",
    "            except e:\n",
    "                print(\"Error: \"+e)\n",
    "        else:\n",
    "            print(col + \" is already transformed.\")\n",
    "    return main"
   ]
  },
  {
   "cell_type": "code",
   "execution_count": 343,
   "metadata": {},
   "outputs": [
    {
     "name": "stdout",
     "output_type": "stream",
     "text": [
      "ultimo_ivr_departamento_clustered_2 is already transformed.\n",
      "ultimo_ivr_departamento_clustered_5 is already transformed.\n",
      "ultima_categoria_open_question_clustered_2 is already transformed.\n",
      "ultima_categoria_open_question_clustered_5 is already transformed.\n",
      "ultima_categoria_open_question_clustered_8 is already transformed.\n",
      "ultima_categoria_open_question_clustered_11 is already transformed.\n",
      "ultima_subcategoria_open_question_clustered_2 is already transformed.\n",
      "ultima_subcategoria_open_question_clustered_5 is already transformed.\n",
      "ultima_subcategoria_open_question_clustered_8 is already transformed.\n",
      "ultima_subcategoria_open_question_clustered_11 is already transformed.\n",
      "grupo_acd_clustered_2 is already transformed.\n",
      "grupo_acd_clustered_5 is already transformed.\n",
      "grupo_acd_clustered_8 is already transformed.\n",
      "grupo_acd_clustered_11 is already transformed.\n",
      "tariff_ds_clustered_2 is already transformed.\n",
      "tariff_ds_clustered_5 is already transformed.\n",
      "tariff_ds_clustered_8 is already transformed.\n",
      "tariff_ds_clustered_11 is already transformed.\n",
      "line_type_ds_clustered_2 is already transformed.\n",
      "activation_reason_ds_clustered_2 is already transformed.\n",
      "deactivation_reason_ds_clustered_2 is already transformed.\n",
      "deactivation_reason_ds_clustered_5 is already transformed.\n",
      "deactivation_reason_ds_clustered_8 is already transformed.\n",
      "deactivation_reason_ds_clustered_9 is already transformed.\n",
      "technology_ds_clustered_2 is already transformed.\n",
      "technology_speed_ds_clustered_2 is already transformed.\n",
      "technology_speed_ds_clustered_5 is already transformed.\n",
      "channel_ds_clustered_2 is already transformed.\n",
      "channel_ds_clustered_5 is already transformed.\n",
      "channel_ds_clustered_8 is already transformed.\n",
      "channel_ds_clustered_11 is already transformed.\n",
      "account_bundle_TYPE_clustered_2 is already transformed.\n",
      "times_retention_clustered_2 is already transformed.\n",
      "times_retention_clustered_5 is already transformed.\n",
      "times_retention_clustered_8 is already transformed.\n",
      "zip_code_clustered_2 is already transformed.\n",
      "zip_code_clustered_5 is already transformed.\n",
      "zip_code_clustered_8 is already transformed.\n",
      "zip_code_clustered_11 is already transformed.\n",
      "locality_area_clustered_2 is already transformed.\n",
      "locality_area_clustered_5 is already transformed.\n",
      "locality_area_clustered_8 is already transformed.\n",
      "locality_area_clustered_11 is already transformed.\n",
      "province_clustered_2 is already transformed.\n",
      "province_clustered_5 is already transformed.\n",
      "province_clustered_8 is already transformed.\n",
      "province_clustered_11 is already transformed.\n",
      "port_in_operator_ds_clustered_2 is already transformed.\n",
      "port_in_operator_ds_clustered_5 is already transformed.\n",
      "port_in_operator_ds_clustered_8 is already transformed.\n",
      "port_in_operator_ds_clustered_11 is already transformed.\n",
      "client_segment_clustered_2 is already transformed.\n",
      "client_segment_clustered_5 is already transformed.\n",
      "client_segment_clustered_8 is already transformed.\n",
      "client_segment_clustered_11 is already transformed.\n",
      "bpo_clustered_2 is already transformed.\n"
     ]
    }
   ],
   "source": [
    "main = transform_cats(main)"
   ]
  },
  {
   "cell_type": "code",
   "execution_count": 287,
   "metadata": {},
   "outputs": [],
   "source": [
    "# df = main.groupby([\"zip_code\",\"zip_code_clustered_11\",\"locality_area\",\"locality_area_clustered_11\",\"technology_ds\"])[\"TARGET\"].aggregate([\"count\",\"mean\",\"sum\"])\n",
    "# df.to_excel(\"zip_code_clusters_v3.xlsx\",merge_cells=False)"
   ]
  },
  {
   "cell_type": "markdown",
   "metadata": {},
   "source": [
    "### Build Model"
   ]
  },
  {
   "cell_type": "code",
   "execution_count": 557,
   "metadata": {},
   "outputs": [],
   "source": [
    "cont_features = dtypes_df[dtypes_df.dtype2==\"cont\"].feature.tolist()\n",
    "train_features = cont_features + [e for e in main.columns if (e.find('_transformed')!=-1 or e.find('_clustered')!=-1)]"
   ]
  },
  {
   "cell_type": "code",
   "execution_count": 665,
   "metadata": {},
   "outputs": [],
   "source": [
    "final_features = [\n",
    "    'channel_ds_clustered_11',\n",
    "    'client_segment_clustered_11',\n",
    "    # 'deactivation_reason_ds_clustered_8', #BIASED\n",
    "    # 'es_rellamada_1h_transformed',\n",
    "    'es_rellamada_24h_transformed',\n",
    "    # 'es_rellamada_48h_transformed',\n",
    "    # 'es_rellamada_72h_transformed',\n",
    "    # 'es_rellamada_agente_1h_transformed',\n",
    "    'es_rellamada_agente_24h_transformed',\n",
    "    # 'es_rellamada_agente_48h_transformed',\n",
    "    # 'es_rellamada_agente_72h_transformed',\n",
    "    # 'LLAMADA_RETEN_1h_transformed',\n",
    "    'LLAMADA_RETEN_24h_transformed',\n",
    "    # 'llamada_reten_3D_transformed',\n",
    "    # 'LLAMADA_RETEN_48h_transformed',\n",
    "    # 'llamada_reten_4D_transformed',\n",
    "    # 'llamada_reten_5D_transformed',\n",
    "    # 'llamada_reten_6D_transformed',\n",
    "    # 'llamada_reten_7D_transformed',\n",
    "    # 'locality_area_clustered_2',\n",
    "    'port_in_operator_ds_clustered_11',\n",
    "    'service_type_transformed',\n",
    "    'tariff_ds_clustered_11',\n",
    "    # 'times_retention_clustered_2',\n",
    "    'total_segundos_conversacion_transformed',\n",
    "    'ultima_categoria_open_question_clustered_11',\n",
    "    'ultima_subcategoria_open_question_clustered_11',\n",
    "    # 'zip_code_clustered_2',\n",
    "    'outcome_baja'\n",
    "]\n",
    "# final_features = train_features # delete later\n",
    "\n",
    "X = np.array(main[final_features])\n",
    "y = np.array(main['TARGET'])"
   ]
  },
  {
   "cell_type": "code",
   "execution_count": 666,
   "metadata": {},
   "outputs": [
    {
     "data": {
      "text/plain": [
       "<matplotlib.axes._subplots.AxesSubplot at 0x1e1ae3d1c88>"
      ]
     },
     "execution_count": 666,
     "metadata": {},
     "output_type": "execute_result"
    },
    {
     "data": {
      "image/png": "[encoded data removed]",
      "text/plain": [
       "<Figure size 792x648 with 2 Axes>"
      ]
     },
     "metadata": {},
     "output_type": "display_data"
    }
   ],
   "source": [
    "import numpy as np\n",
    "import pandas as pd\n",
    "import seaborn as sns\n",
    "import matplotlib.pyplot as plt\n",
    "\n",
    "sns.set(style=\"white\")\n",
    "\n",
    "# Generate a large random dataset\n",
    "d = main[final_features]\n",
    "\n",
    "# Compute the correlation matrix\n",
    "corr = d.corr()\n",
    "\n",
    "# Generate a mask for the upper triangle\n",
    "mask = np.triu(np.ones_like(corr, dtype=np.bool))\n",
    "\n",
    "# Set up the matplotlib figure\n",
    "f, ax = plt.subplots(figsize=(11, 9))\n",
    "\n",
    "# Generate a custom diverging colormap\n",
    "cmap = sns.diverging_palette(220, 10, as_cmap=True)\n",
    "\n",
    "# Draw the heatmap with the mask and correct aspect ratio\n",
    "sns.heatmap(corr, mask=mask, cmap=cmap, vmax=.9, center=0,\n",
    "            square=True, linewidths=.5, cbar_kws={\"shrink\": .5}, annot=True)"
   ]
  },
  {
   "cell_type": "code",
   "execution_count": 667,
   "metadata": {},
   "outputs": [
    {
     "name": "stdout",
     "output_type": "stream",
     "text": [
      "TRAIN: [21977 36290 25516 ... 15648 40333 35819] TEST: [35112 37248 12019 ... 35252 36855 15460]\n"
     ]
    }
   ],
   "source": [
    "sss = StratifiedShuffleSplit(n_splits=1, test_size=0.2, random_state=0)\n",
    "for train_index, test_index in sss.split(X, y):\n",
    "    print(\"TRAIN:\", train_index, \"TEST:\", test_index)\n",
    "    X, X_test = X[train_index], X[test_index]\n",
    "    y, y_test = y[train_index], y[test_index]"
   ]
  },
  {
   "cell_type": "markdown",
   "metadata": {},
   "source": [
    "### > GradientBoostingClassifier"
   ]
  },
  {
   "cell_type": "code",
   "execution_count": 668,
   "metadata": {},
   "outputs": [
    {
     "data": {
      "text/plain": [
       "GradientBoostingClassifier(criterion='friedman_mse', init=None,\n",
       "                           learning_rate=0.008, loss='deviance', max_depth=9,\n",
       "                           max_features=None, max_leaf_nodes=21,\n",
       "                           min_impurity_decrease=0.0, min_impurity_split=None,\n",
       "                           min_samples_leaf=20, min_samples_split=60,\n",
       "                           min_weight_fraction_leaf=0.0, n_estimators=423,\n",
       "                           n_iter_no_change=20, presort='auto',\n",
       "                           random_state=None, subsample=1.0, tol=0.0001,\n",
       "                           validation_fraction=0.1, verbose=0,\n",
       "                           warm_start=False)"
      ]
     },
     "execution_count": 668,
     "metadata": {},
     "output_type": "execute_result"
    }
   ],
   "source": [
    "bst = GradientBoostingClassifier(\n",
    "    loss='deviance',\n",
    "    learning_rate=0.008,\n",
    "    n_estimators=423,\n",
    "    criterion='friedman_mse',\n",
    "    min_samples_split=60,\n",
    "    min_samples_leaf=20,\n",
    "    max_depth=9,\n",
    "    max_leaf_nodes=21,\n",
    "    n_iter_no_change=20,\n",
    "    tol=0.0001)\n",
    "bst.fit(X,y)"
   ]
  },
  {
   "cell_type": "markdown",
   "metadata": {},
   "source": [
    "### > XGBoost"
   ]
  },
  {
   "cell_type": "code",
   "execution_count": 669,
   "metadata": {},
   "outputs": [],
   "source": [
    "# bst = xgb.XGBClassifier(\n",
    "#             gamma=0.01,\n",
    "#             importance_type='gain',\n",
    "#             learning_rate=0.006,\n",
    "#             max_depth=5,\n",
    "#             n_estimators=400,\n",
    "#             objective='binary:logistic',\n",
    "#             random_state=17,\n",
    "#             num_parallel_tree=3)\n",
    "# bst.fit(X,y)"
   ]
  },
  {
   "cell_type": "code",
   "execution_count": 670,
   "metadata": {},
   "outputs": [],
   "source": [
    "y_pred_train = bst.predict_proba(X)[:,1]\n",
    "y_pred_test = bst.predict_proba(X_test)[:,1]"
   ]
  },
  {
   "cell_type": "markdown",
   "metadata": {},
   "source": [
    "### Importances"
   ]
  },
  {
   "cell_type": "code",
   "execution_count": 671,
   "metadata": {
    "scrolled": false
   },
   "outputs": [
    {
     "data": {
      "text/html": [
       "<div>\n",
       "<style scoped>\n",
       "    .dataframe tbody tr th:only-of-type {\n",
       "        vertical-align: middle;\n",
       "    }\n",
       "\n",
       "    .dataframe tbody tr th {\n",
       "        vertical-align: top;\n",
       "    }\n",
       "\n",
       "    .dataframe thead th {\n",
       "        text-align: right;\n",
       "    }\n",
       "</style>\n",
       "<table border=\"1\" class=\"dataframe\">\n",
       "  <thead>\n",
       "    <tr style=\"text-align: right;\">\n",
       "      <th></th>\n",
       "      <th>feature</th>\n",
       "      <th>importance</th>\n",
       "    </tr>\n",
       "  </thead>\n",
       "  <tbody>\n",
       "    <tr>\n",
       "      <th>7</th>\n",
       "      <td>tariff_ds_clustered_11</td>\n",
       "      <td>0.180892</td>\n",
       "    </tr>\n",
       "    <tr>\n",
       "      <th>9</th>\n",
       "      <td>ultima_categoria_open_question_clustered_11</td>\n",
       "      <td>0.173238</td>\n",
       "    </tr>\n",
       "    <tr>\n",
       "      <th>4</th>\n",
       "      <td>LLAMADA_RETEN_24h_transformed</td>\n",
       "      <td>0.155442</td>\n",
       "    </tr>\n",
       "    <tr>\n",
       "      <th>6</th>\n",
       "      <td>service_type_transformed</td>\n",
       "      <td>0.123981</td>\n",
       "    </tr>\n",
       "    <tr>\n",
       "      <th>10</th>\n",
       "      <td>ultima_subcategoria_open_question_clustered_11</td>\n",
       "      <td>0.106662</td>\n",
       "    </tr>\n",
       "    <tr>\n",
       "      <th>5</th>\n",
       "      <td>port_in_operator_ds_clustered_11</td>\n",
       "      <td>0.079656</td>\n",
       "    </tr>\n",
       "    <tr>\n",
       "      <th>11</th>\n",
       "      <td>outcome_baja</td>\n",
       "      <td>0.055720</td>\n",
       "    </tr>\n",
       "    <tr>\n",
       "      <th>0</th>\n",
       "      <td>channel_ds_clustered_11</td>\n",
       "      <td>0.045119</td>\n",
       "    </tr>\n",
       "    <tr>\n",
       "      <th>1</th>\n",
       "      <td>client_segment_clustered_11</td>\n",
       "      <td>0.029810</td>\n",
       "    </tr>\n",
       "    <tr>\n",
       "      <th>8</th>\n",
       "      <td>total_segundos_conversacion_transformed</td>\n",
       "      <td>0.026871</td>\n",
       "    </tr>\n",
       "    <tr>\n",
       "      <th>2</th>\n",
       "      <td>es_rellamada_24h_transformed</td>\n",
       "      <td>0.013819</td>\n",
       "    </tr>\n",
       "    <tr>\n",
       "      <th>3</th>\n",
       "      <td>es_rellamada_agente_24h_transformed</td>\n",
       "      <td>0.008789</td>\n",
       "    </tr>\n",
       "  </tbody>\n",
       "</table>\n",
       "</div>"
      ],
      "text/plain": [
       "                                           feature  importance\n",
       "7                           tariff_ds_clustered_11    0.180892\n",
       "9      ultima_categoria_open_question_clustered_11    0.173238\n",
       "4                    LLAMADA_RETEN_24h_transformed    0.155442\n",
       "6                         service_type_transformed    0.123981\n",
       "10  ultima_subcategoria_open_question_clustered_11    0.106662\n",
       "5                 port_in_operator_ds_clustered_11    0.079656\n",
       "11                                    outcome_baja    0.055720\n",
       "0                          channel_ds_clustered_11    0.045119\n",
       "1                      client_segment_clustered_11    0.029810\n",
       "8          total_segundos_conversacion_transformed    0.026871\n",
       "2                     es_rellamada_24h_transformed    0.013819\n",
       "3              es_rellamada_agente_24h_transformed    0.008789"
      ]
     },
     "execution_count": 671,
     "metadata": {},
     "output_type": "execute_result"
    }
   ],
   "source": [
    "fnames = [(e,f) for e,f in zip(final_features, bst.feature_importances_)]\n",
    "importances = pd.DataFrame(fnames, columns= [\"feature\",\"importance\"])\n",
    "importances.sort_values(\"importance\",ascending=False)"
   ]
  },
  {
   "cell_type": "markdown",
   "metadata": {},
   "source": [
    "### Train CM"
   ]
  },
  {
   "cell_type": "code",
   "execution_count": 672,
   "metadata": {},
   "outputs": [
    {
     "name": "stdout",
     "output_type": "stream",
     "text": [
      "finding best threshold..\n"
     ]
    },
    {
     "name": "stderr",
     "output_type": "stream",
     "text": [
      "D:\\anaconda\\lib\\site-packages\\sklearn\\metrics\\classification.py:1437: UndefinedMetricWarning: F-score is ill-defined and being set to 0.0 due to no predicted samples.\n",
      "  'precision', 'predicted', average, warn_for)\n"
     ]
    },
    {
     "name": "stdout",
     "output_type": "stream",
     "text": [
      "best threshold: 0.13\n",
      "f1-score at this threshold: 0.283545197740113\n"
     ]
    },
    {
     "data": {
      "image/png": "[encoded data removed]",
      "text/plain": [
       "<Figure size 432x288 with 2 Axes>"
      ]
     },
     "metadata": {},
     "output_type": "display_data"
    }
   ],
   "source": [
    "y_pred_train_labels = pred_labels(y_pred_train,y_true = y, jumps = 100)\n",
    "np.set_printoptions(precision=2)\n",
    "\n",
    "plot_confusion_matrix(y, y_pred_train_labels, classes=[0,1],\n",
    "                      title='Confusion matrix')\n",
    "plt.show()"
   ]
  },
  {
   "cell_type": "code",
   "execution_count": 673,
   "metadata": {},
   "outputs": [
    {
     "name": "stdout",
     "output_type": "stream",
     "text": [
      "==TRAIN===\n",
      "accuracy: 0.9,\n",
      "precision: 0.28,\n",
      "sensitivity: 0.29\n",
      "f1-score: 0.28\n"
     ]
    }
   ],
   "source": [
    "cm = confusion_matrix(y, y_pred_train_labels)\n",
    "accuracy = (cm[1,1] + cm[0,0]) / cm.sum() # Overall, how often is the classifier correct?\n",
    "precision = cm[1,1] / (cm[0,1] + cm[1,1]) # When it predicts yes, how often is it correct? \n",
    "sensitivity = cm[1,1] / (cm[1,0] + cm[1,1]) # When it's actually yes, how often does it predict yes?\n",
    "f1 = f1_score(y,y_pred_train_labels)\n",
    "print('''==TRAIN===\n",
    "accuracy: {},\n",
    "precision: {},\n",
    "sensitivity: {}\n",
    "f1-score: {}'''.format(round(accuracy,2),round(precision,2),round(sensitivity,2),round(f1,2)))"
   ]
  },
  {
   "cell_type": "markdown",
   "metadata": {},
   "source": [
    "### Test CM"
   ]
  },
  {
   "cell_type": "code",
   "execution_count": 674,
   "metadata": {},
   "outputs": [
    {
     "name": "stdout",
     "output_type": "stream",
     "text": [
      "finding best threshold..\n",
      "best threshold: 0.12\n",
      "f1-score at this threshold: 0.25569620253164554\n"
     ]
    },
    {
     "data": {
      "image/png": "[encoded data removed]",
      "text/plain": [
       "<Figure size 432x288 with 2 Axes>"
      ]
     },
     "metadata": {},
     "output_type": "display_data"
    }
   ],
   "source": [
    "y_pred_test_labels = pred_labels(y_pred_test,y_true = y_test, jumps = 100)\n",
    "np.set_printoptions(precision=2)\n",
    "\n",
    "plot_confusion_matrix(y_test, y_pred_test_labels, classes=[0,1],\n",
    "                      title='Confusion matrix')\n",
    "plt.show()"
   ]
  },
  {
   "cell_type": "code",
   "execution_count": 675,
   "metadata": {},
   "outputs": [
    {
     "name": "stdout",
     "output_type": "stream",
     "text": [
      "===TEST===\n",
      "accuracy: 0.9,\n",
      "precision: 0.28,\n",
      "sensitivity: 0.29\n",
      "f1-score: 0.26\n"
     ]
    }
   ],
   "source": [
    "cm_test = confusion_matrix(y_test, y_pred_test_labels)\n",
    "accuracy_test = (cm[1,1] + cm[0,0]) / cm.sum() # Overall, how often is the classifier correct?\n",
    "precision_test = cm[1,1] / (cm[0,1] + cm[1,1]) # When it predicts yes, how often is it correct? \n",
    "sensitivity_test = cm[1,1] / (cm[1,0] + cm[1,1]) # When it's actually yes, how often does it predict yes?\n",
    "f1_test = f1_score(y_test,y_pred_test_labels)\n",
    "print('''===TEST===\n",
    "accuracy: {},\n",
    "precision: {},\n",
    "sensitivity: {}\n",
    "f1-score: {}'''.format(round(accuracy_test,2),round(precision_test,2),round(sensitivity_test,2),round(f1_test,2)))"
   ]
  },
  {
   "cell_type": "markdown",
   "metadata": {},
   "source": [
    "# Predict February Data"
   ]
  },
  {
   "cell_type": "code",
   "execution_count": 676,
   "metadata": {},
   "outputs": [],
   "source": [
    "main_feb = pd.read_pickle('./data/model_data_feb.pkl')"
   ]
  },
  {
   "cell_type": "code",
   "execution_count": 677,
   "metadata": {},
   "outputs": [],
   "source": [
    "def get_cluster_map(model_data, column, suffix):\n",
    "    column_w_suffix = column + suffix\n",
    "    df = model_data[[column,column_w_suffix]].groupby(column).mean()\n",
    "    return dict(zip(df.index,df[column_w_suffix]))\n",
    "\n",
    "def apply_cluster(main,column,suffix,cluster_map):\n",
    "    def find_cluster(x,cluster_map):\n",
    "        try: return cluster_map[x]\n",
    "        except:\n",
    "            try: return cluster_map[\"Missing\"]\n",
    "            except: return -99\n",
    "    main[column+suffix] = main[column].apply(find_cluster,args=(cluster_map,))\n",
    "    return main"
   ]
  },
  {
   "cell_type": "markdown",
   "metadata": {},
   "source": [
    "### Apply Clusters"
   ]
  },
  {
   "cell_type": "code",
   "execution_count": 678,
   "metadata": {},
   "outputs": [
    {
     "name": "stdout",
     "output_type": "stream",
     "text": [
      "channel_ds\n",
      "channel_ds_clustered_11\n",
      "client_segment\n",
      "client_segment_clustered_11\n",
      "es_rellamada_24h\n",
      "es_rellamada_24h_transformed\n",
      "es_rellamada_agente_24h\n",
      "es_rellamada_agente_24h_transformed\n",
      "LLAMADA_RETEN_24h\n",
      "LLAMADA_RETEN_24h_transformed\n",
      "port_in_operator_ds\n",
      "port_in_operator_ds_clustered_11\n",
      "service_type\n",
      "service_type_transformed\n",
      "tariff_ds\n",
      "tariff_ds_clustered_11\n",
      "total_segundos_conversacion\n",
      "total_segundos_conversacion_transformed\n",
      "ultima_categoria_open_question\n",
      "ultima_categoria_open_question_clustered_11\n",
      "ultima_subcategoria_open_question\n",
      "ultima_subcategoria_open_question_clustered_11\n",
      "ultima_subcategoria_open_question\n",
      "ultima_subcategoria_open_question_clustered_11\n"
     ]
    }
   ],
   "source": [
    "for col in final_features:\n",
    "    if \"clustered\" in col:\n",
    "        column = col[:(col.find(\"clustered\")-1)]\n",
    "        suffix = col[(-1+col.find(\"clustered\")):]\n",
    "    elif \"transformed\" in col:\n",
    "        column = col[:(col.find(\"transformed\")-1)]\n",
    "        suffix = col[(-1+col.find(\"transformed\")):]\n",
    "    print(column)\n",
    "    print(column+suffix)\n",
    "    cluster_map = get_cluster_map(main,column,suffix)\n",
    "    main_feb = apply_cluster(main_feb,column,suffix,cluster_map)"
   ]
  },
  {
   "cell_type": "code",
   "execution_count": 679,
   "metadata": {},
   "outputs": [],
   "source": [
    "# for col in final_features:\n",
    "#     print(\"=\"*5,end=\" \")\n",
    "#     print(col,end=\" \")\n",
    "#     if \"final\" not in locals():\n",
    "#         final = main_feb.groupby(col).TARGET.aggregate(['count','sum','mean'])\n",
    "#         final[\"feature\"] = col\n",
    "#     else:\n",
    "#         tmp = main_feb.groupby(col).TARGET.aggregate(['count','sum','mean'])\n",
    "#         tmp[\"feature\"] = col\n",
    "#         final = pd.concat([final,tmp])"
   ]
  },
  {
   "cell_type": "code",
   "execution_count": 680,
   "metadata": {},
   "outputs": [],
   "source": [
    "# for col in final_features:\n",
    "#     print(\"=\"*5,end=\" \")\n",
    "#     print(col,end=\" \")\n",
    "#     print(\"=\"*5)\n",
    "#     print(main_feb[col].value_counts(dropna=False))"
   ]
  },
  {
   "cell_type": "markdown",
   "metadata": {},
   "source": [
    "### Predict"
   ]
  },
  {
   "cell_type": "code",
   "execution_count": 681,
   "metadata": {},
   "outputs": [],
   "source": [
    "X_feb = np.array(main_feb[final_features])\n",
    "y_feb = np.array(main_feb['TARGET'])"
   ]
  },
  {
   "cell_type": "code",
   "execution_count": 682,
   "metadata": {},
   "outputs": [],
   "source": [
    "y_pred_feb = bst.predict_proba(X_feb)[:,1]"
   ]
  },
  {
   "cell_type": "markdown",
   "metadata": {},
   "source": [
    "### Draw Confusion Matrix"
   ]
  },
  {
   "cell_type": "code",
   "execution_count": 683,
   "metadata": {},
   "outputs": [
    {
     "name": "stdout",
     "output_type": "stream",
     "text": [
      "finding best threshold..\n"
     ]
    },
    {
     "name": "stderr",
     "output_type": "stream",
     "text": [
      "D:\\anaconda\\lib\\site-packages\\sklearn\\metrics\\classification.py:1437: UndefinedMetricWarning: F-score is ill-defined and being set to 0.0 due to no predicted samples.\n",
      "  'precision', 'predicted', average, warn_for)\n"
     ]
    },
    {
     "name": "stdout",
     "output_type": "stream",
     "text": [
      "best threshold: 0.12\n",
      "f1-score at this threshold: 0.2265774378585086\n"
     ]
    },
    {
     "data": {
      "image/png": "[encoded data removed]",
      "text/plain": [
       "<Figure size 432x288 with 2 Axes>"
      ]
     },
     "metadata": {},
     "output_type": "display_data"
    }
   ],
   "source": [
    "y_pred_feb_labels = pred_labels(y_pred_feb,y_true = y_feb, jumps = 100)\n",
    "np.set_printoptions(precision=2)\n",
    "\n",
    "plot_confusion_matrix(y_feb, y_pred_feb_labels, classes=[0,1],\n",
    "                      title='Confusion matrix')\n",
    "plt.show()"
   ]
  },
  {
   "cell_type": "code",
   "execution_count": 684,
   "metadata": {},
   "outputs": [
    {
     "name": "stdout",
     "output_type": "stream",
     "text": [
      "===TEST===\n",
      "accuracy: 0.9,\n",
      "precision: 0.28,\n",
      "sensitivity: 0.29\n",
      "f1-score: 0.23\n"
     ]
    }
   ],
   "source": [
    "cm_feb = confusion_matrix(y_feb, y_pred_feb_labels)\n",
    "accuracy_feb = (cm[1,1] + cm[0,0]) / cm.sum() # Overall, how often is the classifier correct?\n",
    "precision_feb = cm[1,1] / (cm[0,1] + cm[1,1]) # When it predicts yes, how often is it correct? \n",
    "sensitivity_feb = cm[1,1] / (cm[1,0] + cm[1,1]) # When it's actually yes, how often does it predict yes?\n",
    "f1_feb = f1_score(y_feb,y_pred_feb_labels)\n",
    "print('''===TEST===\n",
    "accuracy: {},\n",
    "precision: {},\n",
    "sensitivity: {}\n",
    "f1-score: {}'''.format(round(accuracy_feb,2),round(precision_feb,2),round(sensitivity_feb,2),round(f1_feb,2)))"
   ]
  },
  {
   "cell_type": "markdown",
   "metadata": {},
   "source": [
    "### ROC Curves"
   ]
  },
  {
   "cell_type": "code",
   "execution_count": 685,
   "metadata": {},
   "outputs": [
    {
     "data": {
      "image/png": "[encoded data removed]",
      "text/plain": [
       "<Figure size 432x288 with 1 Axes>"
      ]
     },
     "metadata": {},
     "output_type": "display_data"
    }
   ],
   "source": [
    "bst_fpr_train, bst_tpr_train, _bst_train = roc_curve(y, y_pred_train)\n",
    "bst_auc_train = roc_auc_score(y,y_pred_train)\n",
    "\n",
    "bst_fpr_test, bst_tpr_test, _bst_test = roc_curve(y_test, y_pred_test)\n",
    "bst_auc_test = roc_auc_score(y_test,y_pred_test)\n",
    "\n",
    "bst_fpr_feb, bst_tpr_feb, _bst_feb = roc_curve(y_feb, y_pred_feb)\n",
    "bst_auc_feb = roc_auc_score(y_feb,y_pred_feb)\n",
    "\n",
    "# tpr = tp / (tp + fn)\n",
    "# fpr = fp / (fp + tn)\n",
    "\n",
    "plt.figure(1)\n",
    "plt.plot([0, 1], [0, 1], 'k--')\n",
    "plt.plot(bst_fpr_train, bst_tpr_train, label='Train')\n",
    "plt.plot(bst_fpr_test, bst_tpr_test, label='Test')\n",
    "plt.plot(bst_fpr_feb, bst_tpr_feb, label='Feb')\n",
    "plt.xlabel('False positive rate')\n",
    "plt.ylabel('True positive rate')\n",
    "plt.title('ROC curve')\n",
    "plt.legend(loc='best')\n",
    "plt.show()"
   ]
  },
  {
   "cell_type": "code",
   "execution_count": 686,
   "metadata": {},
   "outputs": [
    {
     "name": "stdout",
     "output_type": "stream",
     "text": [
      "AUC in Gradient Boosting - Train: 0.7300648303138315\n",
      "AUC in Gradient Boosting - Test : 0.7159503047895501\n",
      "AUC in Gradient Boosting - Feb  : 0.6830644902068396\n"
     ]
    }
   ],
   "source": [
    "print(\"AUC in Gradient Boosting - Train: \"+str(bst_auc_train))\n",
    "print(\"AUC in Gradient Boosting - Test : \"+str(bst_auc_test))\n",
    "print(\"AUC in Gradient Boosting - Feb  : \"+str(bst_auc_feb))"
   ]
  },
  {
   "cell_type": "code",
   "execution_count": 687,
   "metadata": {},
   "outputs": [
    {
     "data": {
      "text/plain": [
       "0    48321\n",
       "1     1997\n",
       "Name: outcome_baja, dtype: int64"
      ]
     },
     "execution_count": 687,
     "metadata": {},
     "output_type": "execute_result"
    }
   ],
   "source": [
    "main['outcome_baja'].value_counts()"
   ]
  },
  {
   "cell_type": "code",
   "execution_count": 688,
   "metadata": {},
   "outputs": [
    {
     "data": {
      "text/html": [
       "<div>\n",
       "<style scoped>\n",
       "    .dataframe tbody tr th:only-of-type {\n",
       "        vertical-align: middle;\n",
       "    }\n",
       "\n",
       "    .dataframe tbody tr th {\n",
       "        vertical-align: top;\n",
       "    }\n",
       "\n",
       "    .dataframe thead th {\n",
       "        text-align: right;\n",
       "    }\n",
       "</style>\n",
       "<table border=\"1\" class=\"dataframe\">\n",
       "  <thead>\n",
       "    <tr style=\"text-align: right;\">\n",
       "      <th></th>\n",
       "      <th>mean</th>\n",
       "      <th>count</th>\n",
       "      <th>sum</th>\n",
       "    </tr>\n",
       "    <tr>\n",
       "      <th>LLAMADA_RETEN_24h_transformed</th>\n",
       "      <th></th>\n",
       "      <th></th>\n",
       "      <th></th>\n",
       "    </tr>\n",
       "  </thead>\n",
       "  <tbody>\n",
       "    <tr>\n",
       "      <th>0</th>\n",
       "      <td>0.063137</td>\n",
       "      <td>48941</td>\n",
       "      <td>3090</td>\n",
       "    </tr>\n",
       "    <tr>\n",
       "      <th>1</th>\n",
       "      <td>0.259259</td>\n",
       "      <td>1377</td>\n",
       "      <td>357</td>\n",
       "    </tr>\n",
       "  </tbody>\n",
       "</table>\n",
       "</div>"
      ],
      "text/plain": [
       "                                   mean  count   sum\n",
       "LLAMADA_RETEN_24h_transformed                       \n",
       "0                              0.063137  48941  3090\n",
       "1                              0.259259   1377   357"
      ]
     },
     "execution_count": 688,
     "metadata": {},
     "output_type": "execute_result"
    }
   ],
   "source": [
    "main.groupby('LLAMADA_RETEN_24h_transformed').TARGET.aggregate(['mean','count','sum'])"
   ]
  },
  {
   "cell_type": "code",
   "execution_count": 689,
   "metadata": {},
   "outputs": [
    {
     "data": {
      "text/html": [
       "<div>\n",
       "<style scoped>\n",
       "    .dataframe tbody tr th:only-of-type {\n",
       "        vertical-align: middle;\n",
       "    }\n",
       "\n",
       "    .dataframe tbody tr th {\n",
       "        vertical-align: top;\n",
       "    }\n",
       "\n",
       "    .dataframe thead th {\n",
       "        text-align: right;\n",
       "    }\n",
       "</style>\n",
       "<table border=\"1\" class=\"dataframe\">\n",
       "  <thead>\n",
       "    <tr style=\"text-align: right;\">\n",
       "      <th></th>\n",
       "      <th>mean</th>\n",
       "      <th>count</th>\n",
       "      <th>sum</th>\n",
       "    </tr>\n",
       "    <tr>\n",
       "      <th>llamada_reten_7D_transformed</th>\n",
       "      <th></th>\n",
       "      <th></th>\n",
       "      <th></th>\n",
       "    </tr>\n",
       "  </thead>\n",
       "  <tbody>\n",
       "    <tr>\n",
       "      <th>0</th>\n",
       "      <td>0.060402</td>\n",
       "      <td>48260</td>\n",
       "      <td>2915</td>\n",
       "    </tr>\n",
       "    <tr>\n",
       "      <th>1</th>\n",
       "      <td>0.258503</td>\n",
       "      <td>2058</td>\n",
       "      <td>532</td>\n",
       "    </tr>\n",
       "  </tbody>\n",
       "</table>\n",
       "</div>"
      ],
      "text/plain": [
       "                                  mean  count   sum\n",
       "llamada_reten_7D_transformed                       \n",
       "0                             0.060402  48260  2915\n",
       "1                             0.258503   2058   532"
      ]
     },
     "execution_count": 689,
     "metadata": {},
     "output_type": "execute_result"
    }
   ],
   "source": [
    "main.groupby('llamada_reten_7D_transformed').TARGET.aggregate(['mean','count','sum'])"
   ]
  },
  {
   "cell_type": "code",
   "execution_count": 690,
   "metadata": {},
   "outputs": [
    {
     "data": {
      "text/html": [
       "<div>\n",
       "<style scoped>\n",
       "    .dataframe tbody tr th:only-of-type {\n",
       "        vertical-align: middle;\n",
       "    }\n",
       "\n",
       "    .dataframe tbody tr th {\n",
       "        vertical-align: top;\n",
       "    }\n",
       "\n",
       "    .dataframe thead th {\n",
       "        text-align: right;\n",
       "    }\n",
       "</style>\n",
       "<table border=\"1\" class=\"dataframe\">\n",
       "  <thead>\n",
       "    <tr style=\"text-align: right;\">\n",
       "      <th></th>\n",
       "      <th>mean</th>\n",
       "      <th>count</th>\n",
       "      <th>sum</th>\n",
       "    </tr>\n",
       "    <tr>\n",
       "      <th>outcome_baja</th>\n",
       "      <th></th>\n",
       "      <th></th>\n",
       "      <th></th>\n",
       "    </tr>\n",
       "  </thead>\n",
       "  <tbody>\n",
       "    <tr>\n",
       "      <th>0</th>\n",
       "      <td>0.062913</td>\n",
       "      <td>48321</td>\n",
       "      <td>3040</td>\n",
       "    </tr>\n",
       "    <tr>\n",
       "      <th>1</th>\n",
       "      <td>0.203806</td>\n",
       "      <td>1997</td>\n",
       "      <td>407</td>\n",
       "    </tr>\n",
       "  </tbody>\n",
       "</table>\n",
       "</div>"
      ],
      "text/plain": [
       "                  mean  count   sum\n",
       "outcome_baja                       \n",
       "0             0.062913  48321  3040\n",
       "1             0.203806   1997   407"
      ]
     },
     "execution_count": 690,
     "metadata": {},
     "output_type": "execute_result"
    }
   ],
   "source": [
    "main.groupby('outcome_baja').TARGET.aggregate(['mean','count','sum'])"
   ]
  },
  {
   "cell_type": "code",
   "execution_count": 694,
   "metadata": {},
   "outputs": [
    {
     "data": {
      "text/plain": [
       "[]"
      ]
     },
     "execution_count": 694,
     "metadata": {},
     "output_type": "execute_result"
    }
   ],
   "source": [
    "[e for e in main.columns if e.find('llamada_reten_30D_transformed')!=-1]"
   ]
  }
 ],
 "metadata": {
  "kernelspec": {
   "display_name": "Python 3",
   "language": "python",
   "name": "python3"
  },
  "language_info": {
   "codemirror_mode": {
    "name": "ipython",
    "version": 3
   },
   "file_extension": ".py",
   "mimetype": "text/x-python",
   "name": "python",
   "nbconvert_exporter": "python",
   "pygments_lexer": "ipython3",
   "version": "3.7.3"
  }
 },
 "nbformat": 4,
 "nbformat_minor": 2
}
